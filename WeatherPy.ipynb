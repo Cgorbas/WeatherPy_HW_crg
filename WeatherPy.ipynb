{
 "cells": [
  {
   "cell_type": "markdown",
   "metadata": {},
   "source": [
    "# WeatherPy\n",
    "----\n",
    "\n",
    "### Analysis\n",
    "* Wind speed and latitude would not be connected unless latitudes could be narrowed for known topographic features.\n",
    "\n",
    "---\n",
    "\n",
    "#### Note\n",
    "* Due to issue with constructing a dataframe/set, plots were constructed with a small created csv"
   ]
  },
  {
   "cell_type": "code",
   "execution_count": 2,
   "metadata": {
    "scrolled": true
   },
   "outputs": [],
   "source": [
    "# Dependencies and Setup\n",
    "from IPython.display import Image\n",
    "import matplotlib.pyplot as plt\n",
    "import pandas as pd\n",
    "import numpy as np\n",
    "import requests\n",
    "import time\n",
    "import json\n",
    "\n",
    "# Import API key\n",
    "from api_keys import api_key\n",
    "\n",
    "# Incorporated citipy to determine city based on latitude and longitude\n",
    "from citipy import citipy\n",
    "\n",
    "# Output File (CSV)\n",
    "output_data_file = \"output_data/cities.csv\"\n",
    "\n",
    "# Range of latitudes and longitudes\n",
    "lat_range = (-90, 90)\n",
    "lng_range = (-180, 180)"
   ]
  },
  {
   "cell_type": "markdown",
   "metadata": {},
   "source": [
    "## Generate Cities List"
   ]
  },
  {
   "cell_type": "code",
   "execution_count": 100,
   "metadata": {},
   "outputs": [
    {
     "name": "stdout",
     "output_type": "stream",
     "text": [
      "613\n",
      "['kuzhener', 'puerto ayora', 'busselton', 'hermanus', 'nikolskoye', 'rikitea', 'san quintin', 'bluff', 'avarua', 'punta arenas', 'antalaha', 'bengkulu', 'albany', 'butaritari', 'east london', 'yulin', 'hithadhoo', 'illoqqortoormiut', 'cape town', 'padang', 'castro', 'hilo', 'hami', 'ushuaia', 'atuona', 'saint-philippe', 'maceio', 'taolanaro', 'constitucion', 'beringovskiy', 'hay river', 'sinegorye', 'cowra', 'fort nelson', 'homer', 'bowen', 'kolpashevo', 'bargal', 'bogorodskoye', 'huazolotitlan', 'northam', 'rincon', 'asyut', 'evensk', 'ponta do sol', 'tuatapere', 'anloga', 'mutare', 'severo-yeniseyskiy', 'kankaanpaa', 'chivolo', 'ribeira grande', 'kaitangata', 'emerald', 'mahebourg', 'clyde river', 'samarai', 'grand gaube', 'mataura', 'torbay', 'tasiilaq', 'new norfolk', 'hobart', 'amuntai', 'chuy', 'grand river south east', 'grindavik', 'kuche', 'nemuro', 'severo-kurilsk', 'pemangkat', 'yerbogachen', 'vaini', 'esperance', 'zhangjiakou', 'bredasdorp', 'namboongan', 'belmonte', 'olafsvik', 'la ronge', 'biloela', 'erzurum', 'luderitz', 'upernavik', 'klaksvik', 'entre rios', 'isangel', 'dingle', 'bacuit', 'qaanaaq', 'iquitos', 'volginskiy', 'samusu', 'ahipara', 'jamestown', 'katangli', 'shelburne', 'kupang', 'nam tha', 'port alfred', 'serowe', 'grand centre', 'luanda', 'kungalv', 'ancud', 'cherskiy', 'shiojiri', 'muros', 'kapaa', 'tsihombe', 'georgetown', 'mangrol', 'norman wells', 'sugal', 'colares', 'comodoro rivadavia', 'saint anthony', 'alice springs', 'abu samrah', 'mizan teferi', 'port hardy', 'dwarka', 'kavieng', 'carnarvon', 'kenai', 'arraial do cabo', 'keti bandar', 'port elizabeth', 'qui nhon', 'halalo', 'jijiga', 'lagoa', 'vigrestad', 'arman', 'lompoc', 'saskylakh', 'victoria', 'puerto escondido', 'aswan', 'hasaki', 'college', 'barentsburg', 'bethel', 'axim', 'uran', 'vila velha', 'ushibuka', 'changji', 'sitka', 'isla vista', 'zaozerne', 'oytal', 'malwan', 'labuhan', 'kudamatsu', 'bambous virieux', 'tumannyy', 'san-pedro', 'pevek', 'fortuna', 'san patricio', 'sao filipe', 'wasilla', 'kurtalan', 'najran', 'yanliang', 'haapsalu', 'north bend', 'thompson', 'kukshi', 'saldanha', 'beitbridge', 'srednekolymsk', 'berlevag', 'caravelas', 'bani', 'hualmay', 'sentyabrskiy', 'caruray', 'ust-kamchatsk', 'dalvik', 'tuktoyaktuk', 'yulara', 'tiksi', 'souillac', 'bathsheba', 'southbridge', 'port-gentil', 'nanortalik', 'raudeberg', 'sao gabriel da cachoeira', 'provideniya', 'lebu', 'longyearbyen', 'mogocha', 'necochea', 'husavik', 'mildura', 'georgiyevka', 'huarmey', 'mar del plata', 'barrow', 'lavrentiya', 'belushya guba', 'tarazona', 'vardo', 'concordia', 'salalah', 'djibo', 'yellowknife', 'iqaluit', 'nola', 'sao joao da barra', 'ambon', 'bolitoc', 'niimi', 'camalu', 'carutapera', 'vaitupu', 'tabou', 'danville', 'chikoy', 'matara', 'cayenne', 'teknaf', 'pitimbu', 'margate', 'nizwa', 'grants', 'huancavelica', 'saint george', 'karaul', 'hihifo', 'hofn', 'mahanje', 'linqiong', 'santa paula', 'mirabad', 'russkaya polyana', 'samfya', 'avera', 'ostrovnoy', 'angoche', 'gao', 'poum', 'kruisfontein', 'ahuimanu', 'pisco', 'half moon bay', 'hunza', 'chunskiy', 'westport', 'yerofey pavlovich', 'iracoubo', 'quelimane', 'flinders', 'taltal', 'santa cruz do sul', 'guerrero negro', 'totness', 'enshi', 'puro', 'khatanga', 'port blair', 'kargasok', 'barinas', 'les cayes', 'aripuana', 'temnikov', 'coquimbo', 'mikuni', 'talnakh', 'pimentel', 'sinop', 'havoysund', 'dunmore east', 'sobolevo', 'tomatlan', 'amderma', 'leningradskiy', 'lixourion', 'kulhudhuffushi', 'gizo', 'roebourne', 'narsaq', 'hirara', 'faanui', 'elat', 'naryan-mar', 'pemba', 'kataysk', 'akyab', 'kosgi', 'waslala', 'qasigiannguit', 'hamilton', 'yakima', 'zabol', 'charters towers', 'kangaatsiaq', 'airai', 'beidao', 'jalu', 'maracas', 'methala', 'dikson', 'tynda', 'buritis', 'gvardeysk', 'touros', 'rungata', 'lorengau', 'los llanos de aridane', 'luwuk', 'coihaique', 'cidreira', 'conceicao do araguaia', 'presidencia roque saenz pena', 'araouane', 'cocora', 'zhangye', 'saint-leu', 'krasnyy chikoy', 'mocambique', 'teberda', 'lasa', 'katsuura', 'kitimat', 'mount gambier', 'fare', 'vikulovo', 'tawkar', 'rey bouba', 'konevo', 'rawson', 'qujing', 'eyl', 'ilulissat', 'lata', 'cabo san lucas', 'okakarara', 'chokurdakh', 'vibo valentia', 'ekibastuz', 'albion', 'vestmannaeyjar', 'oshikango', 'drogheda', 'kununurra', 'ukmerge', 'takoradi', 'moranbah', 'kuala perlis', 'sakakah', 'sayyan', 'rorvik', 'cumana', 'brae', 'herndon', 'neepawa', 'gravelbourg', 'vanimo', 'angoram', 'bahia de caraquez', 'ilinsko-podomskoye', 'buckeye', 'magistralnyy', 'santa maria', 'skjervoy', 'palabuhanratu', 'ullapool', 'saleaula', 'yeletskiy', 'metu', 'slyudyanka', 'lazaro cardenas', 'lima', 'saint-prosper', 'hambantota', 'havelock', 'miramar', 'ballina', 'attawapiskat', 'rongcheng', 'wulanhaote', 'nicoya', 'fereydunshahr', 'port hueneme', 'saint-georges', 'henties bay', 'mys shmidta', 'wainwright', 'itarema', 'allacapan', 'ternate', 'pyu', 'ko samui', 'batagay-alyta', 'marand', 'arauco', 'solsvik', 'zaria', 'saint-augustin', 'elko', 'maksatikha', 'killybegs', 'cap malheureux', 'skagen', 'porvoo', 'atambua', 'san juan bautista', 'san cristobal', 'tezu', 'turbat', 'girua', 'puerto madero', 'greenville', 'pousat', 'kasongo-lunda', 'chany', 'saquena', 'angelholm', 'utiroa', 'anadyr', 'gladstone', 'aksu', 'gornopravdinsk', 'miri', 'addis zemen', 'muroto', 'rio gallegos', 'sur', 'honningsvag', 'baoning', 'honggang', 'kavaratti', 'novochernorechenskiy', 'albanel', 'santa lucia', 'medicine hat', 'quepos', 'ambulu', 'kozhva', 'tahara', 'vostok', 'vanavara', 'mount isa', 'nantucket', 'mnogovershinnyy', 'neuquen', 'kodiak', 'gat', 'port lincoln', 'apache junction', 'toowoomba', 'sarangani', 'chagda', 'marcona', 'palmer', 'lazo', 'buritama', 'mayo', 'poyarkovo', 'komsomolets', 'majene', 'toktogul', 'sikonge', 'balkanabat', 'karkaralinsk', 'cascais', 'svetlyy', 'saint-pierre', 'auki', 'golden', 'waddan', 'pangnirtung', 'maragogi', 'saint-joseph', 'socorro', 'nome', 'kahului', 'beyneu', 'hun', 'katobu', 'roros', 'ukiah', 'yangambi', 'xuanhua', 'goranboy', 'qesarya', 'kalnciems', 'tuggurt', 'corozal', 'umm lajj', 'tessalit', 'bonthe', 'turukhansk', 'grantham', 'yumen', 'nakusp', 'loandjili', 'kuala terengganu', 'kainantu', 'jeremie', 'vyritsa', 'pochutla', 'komsomolskiy', 'paamiut', 'quatre cocos', 'nova vicosa', 'novaya igirma', 'oranjemund', 'tiarei', 'laguna', 'milkovo', 'pacific grove', 'halifax', 'grand-santi', 'tokur', 'sorland', 'geraldton', 'namibe', 'moron', 'muhororo', 'kawalu', 'punta cardon', 'ugoofaaru', 'ocampo', 'impfondo', 'glubokoe', 'gryazovets', 'mocuba', 'bloomfield', 'tabiauea', 'russell', 'tautira', 'krasnoselkup', 'namatanai', 'richards bay', 'normandin', 'talcahuano', 'kirakira', 'kandalaksha', 'taburi', 'asau', 'florianopolis', 'am timan', 'longonjo', 'abu dhabi', 'puerto el triunfo', 'antofagasta', 'upington', 'zhanaozen', 'fallon', 'limbang', 'linxia', 'copiapo', 'north bay', 'codrington', 'pinalejo', 'bilibino', 'roald', 'karratha', 'port macquarie', 'blackwater', 'satitoa', 'nizhneyansk', 'arlit', 'kutum', 'saintes', 'bilma', 'harindanga', 'ketchikan', 'carlsbad', 'yabelo', 'thatcham', 'matagami', 'nizhnevartovsk', 'tutzing', 'broken hill', 'imbituba', 'bulri', 'pangody', 'byron bay', 'noumea', 'merauke', 'bima', 'kurchum', 'tazmalt', 'jaciara', 'rebrikha', 'charlottesville', 'batemans bay', 'chunan', 'panama city', 'ndele', 'mapiripan', 'mana', 'moctezuma', 'alofi', 'tommot', 'inirida', 'clinton', 'nanyang', 'gafanha da encarnacao', 'kuala lipis', 'pokaran', 'alyangula', 'tilichiki', 'amapa', 'baykit', 'acapulco', 'humboldt']\n"
     ]
    }
   ],
   "source": [
    "# List for holding lat_lngs and cities\n",
    "lat_lngs = []\n",
    "cities = []\n",
    "\n",
    "# Create a set of random lat and lng combinations\n",
    "lats = np.random.uniform(low=-90.000, high=90.000, size=1500)\n",
    "lngs = np.random.uniform(low=-180.000, high=180.000, size=1500)\n",
    "lat_lngs = zip(lats, lngs)\n",
    "\n",
    "# Identify nearest city for each lat, lng combination\n",
    "for lat_lng in lat_lngs:\n",
    "    city = citipy.nearest_city(lat_lng[0], lat_lng[1]).city_name\n",
    "    \n",
    "    # If the city is unique, then add it to a our cities list\n",
    "    if city not in cities:\n",
    "        cities.append(city)\n",
    "\n",
    "# Print the city count to confirm sufficient count\n",
    "print(len(cities))\n",
    "print(cities)\n",
    "\n"
   ]
  },
  {
   "cell_type": "markdown",
   "metadata": {},
   "source": [
    "### Perform API Calls\n",
    "* Perform a weather check on each city using a series of successive API calls.\n",
    "* Include a print log of each city as it'sbeing processed (with the city number and city name).\n"
   ]
  },
  {
   "cell_type": "code",
   "execution_count": 101,
   "metadata": {},
   "outputs": [],
   "source": [
    "#testing api call\n",
    "\n",
    "\n",
    "base_url= \"https://api.openweathermap.org/data/2.5/weather?q=\"\n",
    "url=base_url+cityName+\"&appid=\"+api_key\n",
    "\n",
    "\n",
    "#retrieve data\n",
    "#apiData=requests.get(url).json()\n",
    "#apiDataJson=json.dumps(apiData, indent=4,sort_keys=True)\n",
    "\n"
   ]
  },
  {
   "cell_type": "code",
   "execution_count": 161,
   "metadata": {},
   "outputs": [],
   "source": [
    "# i tried!!  this is the same issue I've had in previous exercises distinguishing different types of data.  \n",
    "#although the data is retrieved, I can't get the append to work because of issues with different types\n",
    "#of objects.  when I tried to save, only can save one line.\n",
    "\n",
    "for cityName in cities:\n",
    "    url=base_url+cityName+\"&appid=\"+api_key\n",
    "#    print(url)\n",
    "#    print(cityName)\n",
    "\n",
    "    apiData=requests.get(url).json()\n",
    "\n",
    "    #    print (len(apiData))\n"
   ]
  },
  {
   "cell_type": "code",
   "execution_count": 164,
   "metadata": {},
   "outputs": [],
   "source": [
    "#store data in  csv and dataframe\n",
    "\n",
    "api_data=pd.io.json.json_normalize(apiData)\n",
    "\n",
    "#df = pd.DataFrame(np.array(my_list)\n",
    "api_data.to_csv(\"output_data/output_data_file.csv\")\n"
   ]
  },
  {
   "cell_type": "code",
   "execution_count": 165,
   "metadata": {},
   "outputs": [
    {
     "data": {
      "text/html": [
       "<div>\n",
       "<style scoped>\n",
       "    .dataframe tbody tr th:only-of-type {\n",
       "        vertical-align: middle;\n",
       "    }\n",
       "\n",
       "    .dataframe tbody tr th {\n",
       "        vertical-align: top;\n",
       "    }\n",
       "\n",
       "    .dataframe thead th {\n",
       "        text-align: right;\n",
       "    }\n",
       "</style>\n",
       "<table border=\"1\" class=\"dataframe\">\n",
       "  <thead>\n",
       "    <tr style=\"text-align: right;\">\n",
       "      <th></th>\n",
       "      <th>City ID</th>\n",
       "      <th>City Name</th>\n",
       "      <th>Temperature</th>\n",
       "      <th>Humidity</th>\n",
       "      <th>Latitude</th>\n",
       "      <th>Longitude</th>\n",
       "      <th>Cloudiness</th>\n",
       "      <th>Max Temp</th>\n",
       "      <th>Wind Speed</th>\n",
       "    </tr>\n",
       "  </thead>\n",
       "  <tbody>\n",
       "    <tr>\n",
       "      <th>0</th>\n",
       "      <td>123</td>\n",
       "      <td>oklahoma city</td>\n",
       "      <td>89</td>\n",
       "      <td>95%</td>\n",
       "      <td>53</td>\n",
       "      <td>42</td>\n",
       "      <td>yes</td>\n",
       "      <td>91</td>\n",
       "      <td>15</td>\n",
       "    </tr>\n",
       "    <tr>\n",
       "      <th>1</th>\n",
       "      <td>128</td>\n",
       "      <td>tampa</td>\n",
       "      <td>42</td>\n",
       "      <td>90%</td>\n",
       "      <td>21</td>\n",
       "      <td>42</td>\n",
       "      <td>cloudy</td>\n",
       "      <td>89</td>\n",
       "      <td>2</td>\n",
       "    </tr>\n",
       "    <tr>\n",
       "      <th>2</th>\n",
       "      <td>134</td>\n",
       "      <td>san diego</td>\n",
       "      <td>68</td>\n",
       "      <td>52%</td>\n",
       "      <td>38</td>\n",
       "      <td>82</td>\n",
       "      <td>partly</td>\n",
       "      <td>81</td>\n",
       "      <td>8</td>\n",
       "    </tr>\n",
       "    <tr>\n",
       "      <th>3</th>\n",
       "      <td>142</td>\n",
       "      <td>san juan</td>\n",
       "      <td>76</td>\n",
       "      <td>78%</td>\n",
       "      <td>10</td>\n",
       "      <td>32</td>\n",
       "      <td>clear</td>\n",
       "      <td>80</td>\n",
       "      <td>12</td>\n",
       "    </tr>\n",
       "    <tr>\n",
       "      <th>4</th>\n",
       "      <td>581</td>\n",
       "      <td>glasgow</td>\n",
       "      <td>65</td>\n",
       "      <td>55%</td>\n",
       "      <td>68</td>\n",
       "      <td>92</td>\n",
       "      <td>clear</td>\n",
       "      <td>83</td>\n",
       "      <td>16</td>\n",
       "    </tr>\n",
       "    <tr>\n",
       "      <th>5</th>\n",
       "      <td>678</td>\n",
       "      <td>cairo</td>\n",
       "      <td>87</td>\n",
       "      <td>32%</td>\n",
       "      <td>43</td>\n",
       "      <td>86</td>\n",
       "      <td>partly</td>\n",
       "      <td>88</td>\n",
       "      <td>3</td>\n",
       "    </tr>\n",
       "    <tr>\n",
       "      <th>6</th>\n",
       "      <td>923</td>\n",
       "      <td>guadalajara</td>\n",
       "      <td>78</td>\n",
       "      <td>70%</td>\n",
       "      <td>87</td>\n",
       "      <td>32</td>\n",
       "      <td>cloudy</td>\n",
       "      <td>84</td>\n",
       "      <td>11</td>\n",
       "    </tr>\n",
       "    <tr>\n",
       "      <th>7</th>\n",
       "      <td>789</td>\n",
       "      <td>london</td>\n",
       "      <td>34</td>\n",
       "      <td>63%</td>\n",
       "      <td>76</td>\n",
       "      <td>34</td>\n",
       "      <td>cloudy</td>\n",
       "      <td>65</td>\n",
       "      <td>18</td>\n",
       "    </tr>\n",
       "    <tr>\n",
       "      <th>8</th>\n",
       "      <td>374</td>\n",
       "      <td>moscow</td>\n",
       "      <td>45</td>\n",
       "      <td>8%</td>\n",
       "      <td>87</td>\n",
       "      <td>43</td>\n",
       "      <td>clear</td>\n",
       "      <td>65</td>\n",
       "      <td>20</td>\n",
       "    </tr>\n",
       "    <tr>\n",
       "      <th>9</th>\n",
       "      <td>987</td>\n",
       "      <td>orlando</td>\n",
       "      <td>94</td>\n",
       "      <td>100%</td>\n",
       "      <td>98</td>\n",
       "      <td>33</td>\n",
       "      <td>clear</td>\n",
       "      <td>95</td>\n",
       "      <td>1</td>\n",
       "    </tr>\n",
       "  </tbody>\n",
       "</table>\n",
       "</div>"
      ],
      "text/plain": [
       "   City ID      City Name  Temperature Humidity  Latitude  Longitude  \\\n",
       "0      123  oklahoma city           89      95%        53         42   \n",
       "1      128          tampa           42      90%        21         42   \n",
       "2      134      san diego           68      52%        38         82   \n",
       "3      142       san juan           76      78%        10         32   \n",
       "4      581        glasgow           65      55%        68         92   \n",
       "5      678          cairo           87      32%        43         86   \n",
       "6      923    guadalajara           78      70%        87         32   \n",
       "7      789         london           34      63%        76         34   \n",
       "8      374         moscow           45       8%        87         43   \n",
       "9      987        orlando           94     100%        98         33   \n",
       "\n",
       "  Cloudiness  Max Temp  Wind Speed  \n",
       "0        yes        91          15  \n",
       "1     cloudy        89           2  \n",
       "2     partly        81           8  \n",
       "3      clear        80          12  \n",
       "4      clear        83          16  \n",
       "5     partly        88           3  \n",
       "6     cloudy        84          11  \n",
       "7     cloudy        65          18  \n",
       "8      clear        65          20  \n",
       "9      clear        95           1  "
      ]
     },
     "execution_count": 165,
     "metadata": {},
     "output_type": "execute_result"
    }
   ],
   "source": [
    "#using fake data because can't sort out the append\n",
    "# Read the data file\n",
    "dataAPI_df=pd.read_csv('madeup_data.txt')\n",
    "\n",
    "\n",
    "# store in DataFrame\n",
    "data_APIdf = pd.DataFrame({\n",
    "                            \"City ID\":dataAPI_df[\"id\"], \n",
    "                             \"City Name\":dataAPI_df[\"name\"],\n",
    "                            \"Temperature\":dataAPI_df[\"temp\"],\n",
    "                            \"Humidity\":dataAPI_df[\"humidity\"],\n",
    "                             \"Latitude\":dataAPI_df[\"lat\"],\n",
    "                            \"Longitude\": dataAPI_df[\"lon\"], \n",
    "                                \"Cloudiness\":dataAPI_df[\"clouds\"],\n",
    "                          \"Max Temp\":dataAPI_df[\"temp_max\"],\n",
    "                          \"Wind Speed\":dataAPI_df[\"speed\"]\n",
    "                          })\n",
    "\n",
    "\n",
    "# Preview DataFrame\n",
    "data_APIdf.head(10)\n"
   ]
  },
  {
   "cell_type": "code",
   "execution_count": null,
   "metadata": {},
   "outputs": [],
   "source": []
  },
  {
   "cell_type": "markdown",
   "metadata": {},
   "source": [
    "### Convert Raw Data to DataFrame\n",
    "* Export the city data into a .csv.\n",
    "* Display the DataFrame"
   ]
  },
  {
   "cell_type": "code",
   "execution_count": 166,
   "metadata": {},
   "outputs": [],
   "source": [
    "data_APIdf.to_csv(\"output_data/output_data2_file.csv\")"
   ]
  },
  {
   "cell_type": "markdown",
   "metadata": {},
   "source": [
    "### Plotting the Data\n",
    "* Use proper labeling of the plots using plot titles (including date of analysis) and axes labels.\n",
    "* Save the plotted figures as .pngs."
   ]
  },
  {
   "cell_type": "markdown",
   "metadata": {},
   "source": [
    "#### Latitude vs. Temperature Plot"
   ]
  },
  {
   "cell_type": "code",
   "execution_count": 167,
   "metadata": {},
   "outputs": [
    {
     "data": {
      "image/png": "[encoded data removed]",
      "text/plain": [
       "<Figure size 432x288 with 2 Axes>"
      ]
     },
     "metadata": {
      "needs_background": "light"
     },
     "output_type": "display_data"
    }
   ],
   "source": [
    "#define axis\n",
    "#x_axis=np.array(drugTimePiv.index)\n",
    "x_axis=np.array(data_APIdf[\"Latitude\"])\n",
    "y_axis=np.array(data_APIdf[\"Temperature\"])\n",
    "\n",
    "#Scatter formatting\n",
    "rng = np.random.RandomState(0)\n",
    "colors = rng.rand(10)\n",
    "sizes = 100 * rng.rand(10)\n",
    "\n",
    "\n",
    "#Grid Formatting\n",
    "tick_locations=[value +5 for value in x_axis]\n",
    "plt.xticks=(tick_locations)\n",
    "plt.grid(which='major', axis='both')\n",
    "plt.title(\"Temperature vs Latitude\")\n",
    "plt.xlabel(\"Latitude\")\n",
    "plt.ylabel(\"Temperature\")\n",
    "\n",
    "\n",
    "\n",
    "#plot latitude vs temperature\n",
    "plt.scatter(x_axis, y_axis, c=colors, s=sizes, alpha=0.3,\n",
    "            cmap='viridis')\n",
    "plt.colorbar()\n",
    "\n",
    "#plt.legend(loc=\"upper left\")\n",
    "\n",
    "# Save the Figure\n",
    "plt.savefig(\"output_data/tempVsLat.png\")\n",
    "plt.tight_layout()\n",
    "plt.show()\n"
   ]
  },
  {
   "cell_type": "markdown",
   "metadata": {},
   "source": [
    "#### Latitude vs. Humidity Plot"
   ]
  },
  {
   "cell_type": "code",
   "execution_count": 168,
   "metadata": {},
   "outputs": [
    {
     "data": {
      "image/png": "[encoded data removed]",
      "text/plain": [
       "<Figure size 432x288 with 2 Axes>"
      ]
     },
     "metadata": {
      "needs_background": "light"
     },
     "output_type": "display_data"
    }
   ],
   "source": [
    "#define axis\n",
    "#x_axis=np.array(drugTimePiv.index)\n",
    "x_axis=np.array(data_APIdf[\"Latitude\"])\n",
    "y_axis=np.array(data_APIdf[\"Humidity\"])\n",
    "\n",
    "#Scatter formatting\n",
    "rng = np.random.RandomState(0)\n",
    "colors = rng.rand(10)\n",
    "sizes = 100 * rng.rand(10)\n",
    "\n",
    "\n",
    "#Grid Formatting\n",
    "tick_locations=[value +5 for value in x_axis]\n",
    "plt.xticks=(tick_locations)\n",
    "plt.grid(which='major', axis='both')\n",
    "plt.title(\"Humidity vs Latitude\")\n",
    "plt.xlabel(\"Latitude\")\n",
    "plt.ylabel(\"Humidity\")\n",
    "\n",
    "\n",
    "\n",
    "#plot latitude vs temperature\n",
    "plt.scatter(x_axis, y_axis, c=colors, s=sizes, alpha=0.3,\n",
    "            cmap='viridis')\n",
    "plt.colorbar()\n",
    "\n",
    "#plt.legend(loc=\"upper left\")\n",
    "\n",
    "# Save the Figure\n",
    "plt.savefig(\"output_data/humidVsLat.png\")\n",
    "plt.tight_layout()\n",
    "plt.show()\n"
   ]
  },
  {
   "cell_type": "markdown",
   "metadata": {},
   "source": [
    "#### Latitude vs. Cloudiness Plot"
   ]
  },
  {
   "cell_type": "code",
   "execution_count": 169,
   "metadata": {},
   "outputs": [
    {
     "data": {
      "image/png": "[encoded data removed]",
      "text/plain": [
       "<Figure size 432x288 with 2 Axes>"
      ]
     },
     "metadata": {
      "needs_background": "light"
     },
     "output_type": "display_data"
    }
   ],
   "source": [
    "#define axis\n",
    "#x_axis=np.array(drugTimePiv.index)\n",
    "x_axis=np.array(data_APIdf[\"Latitude\"])\n",
    "y_axis=np.array(data_APIdf[\"Cloudiness\"])\n",
    "\n",
    "#Scatter formatting\n",
    "rng = np.random.RandomState(0)\n",
    "colors = rng.rand(10)\n",
    "sizes = 100 * rng.rand(10)\n",
    "\n",
    "\n",
    "#Grid Formatting\n",
    "tick_locations=[value +5 for value in x_axis]\n",
    "plt.xticks=(tick_locations)\n",
    "plt.grid(which='major', axis='both')\n",
    "plt.title(\"Cloudiness vs Latitude\")\n",
    "plt.xlabel(\"Latitude\")\n",
    "plt.ylabel(\"Cloudiness\")\n",
    "\n",
    "\n",
    "\n",
    "#plot latitude vs temperature\n",
    "plt.scatter(x_axis, y_axis, c=colors, s=sizes, alpha=0.3,\n",
    "            cmap='viridis')\n",
    "plt.colorbar()\n",
    "\n",
    "#plt.legend(loc=\"upper left\")\n",
    "\n",
    "# Save the Figure\n",
    "plt.savefig(\"output_data/cloudsVsLat.png\")\n",
    "plt.tight_layout()\n",
    "plt.show()"
   ]
  },
  {
   "cell_type": "markdown",
   "metadata": {},
   "source": [
    "#### Latitude vs. Wind Speed Plot"
   ]
  },
  {
   "cell_type": "code",
   "execution_count": 170,
   "metadata": {},
   "outputs": [
    {
     "data": {
      "image/png": "[encoded data removed]",
      "text/plain": [
       "<Figure size 432x288 with 2 Axes>"
      ]
     },
     "metadata": {
      "needs_background": "light"
     },
     "output_type": "display_data"
    }
   ],
   "source": [
    "#define axis\n",
    "#x_axis=np.array(drugTimePiv.index)\n",
    "x_axis=np.array(data_APIdf[\"Latitude\"])\n",
    "y_axis=np.array(data_APIdf[\"Wind Speed\"])\n",
    "\n",
    "#Scatter formatting\n",
    "rng = np.random.RandomState(0)\n",
    "colors = rng.rand(10)\n",
    "sizes = 100 * rng.rand(10)\n",
    "\n",
    "\n",
    "#Grid Formatting\n",
    "tick_locations=[value +5 for value in x_axis]\n",
    "plt.xticks=(tick_locations)\n",
    "plt.grid(which='major', axis='both')\n",
    "plt.title(\"Wind Speed vs Latitude\")\n",
    "plt.xlabel(\"Latitude\")\n",
    "plt.ylabel(\"Wind Speed\")\n",
    "\n",
    "\n",
    "\n",
    "#plot latitude vs temperature\n",
    "plt.scatter(x_axis, y_axis, c=colors, s=sizes, alpha=0.3,\n",
    "            cmap='viridis')\n",
    "plt.colorbar()\n",
    "\n",
    "#plt.legend(loc=\"upper left\")\n",
    "\n",
    "# Save the Figure\n",
    "plt.savefig(\"output_data/windVsLat.png\")\n",
    "plt.tight_layout()\n",
    "plt.show()"
   ]
  },
  {
   "cell_type": "code",
   "execution_count": null,
   "metadata": {},
   "outputs": [],
   "source": []
  }
 ],
 "metadata": {
  "anaconda-cloud": {},
  "kernelspec": {
   "display_name": "Python [conda env:root]",
   "language": "python",
   "name": "conda-root-py"
  },
  "language_info": {
   "codemirror_mode": {
    "name": "ipython",
    "version": 3
   },
   "file_extension": ".py",
   "mimetype": "text/x-python",
   "name": "python",
   "nbconvert_exporter": "python",
   "pygments_lexer": "ipython3",
   "version": "3.7.0"
  }
 },
 "nbformat": 4,
 "nbformat_minor": 2
}
